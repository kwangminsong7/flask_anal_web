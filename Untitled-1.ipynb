{
 "cells": [
  {
   "cell_type": "code",
   "execution_count": 1,
   "metadata": {},
   "outputs": [],
   "source": [
    "from flask import Flask, render_template, request\n",
    "from flask_paginate import Pagination, get_page_parameter\n",
    "import requests as req\n",
    "from bs4 import BeautifulSoup\n",
    "import pandas as pd\n",
    "from datetime import datetime\n",
    "import xlsxwriter\n",
    "from wordcloud import WordCloud\n",
    "from konlpy.tag import Kkma\n",
    "from collections import Counter\n",
    "import matplotlib.pyplot as plt\n",
    "import os\n",
    "import seaborn as sns\n",
    "import dataframe_image as dfi\n",
    "import threading\n",
    "import matplotlib"
   ]
  },
  {
   "cell_type": "code",
   "execution_count": 2,
   "metadata": {},
   "outputs": [],
   "source": [
    "# 크롤링\n",
    "from concurrent.futures import ThreadPoolExecutor\n",
    "import requests as req\n",
    "from bs4 import BeautifulSoup\n",
    "import pandas as pd\n",
    "from datetime import datetime\n",
    "\n",
    "def news_article(page_url):\n",
    "    response = req.get(page_url, headers={\n",
    "        'User-Agent': 'Mozilla/5.0 (Macintosh; Intel Mac OS X 10_15_7) AppleWebKit/605.1.15 (KHTML, like Gecko) Version/16.3 Safari/605.1.15'\n",
    "    })\n",
    "    soup = BeautifulSoup(response.text, 'html.parser')\n",
    "    articles = soup.select(\"div.box_etc div.cont_thumb\")\n",
    "    return articles\n",
    "\n",
    "categories = ['politics', 'economic', 'society', 'digital']\n",
    "target_articles = {category: [] for category in categories}\n",
    "\n",
    "for category in categories:\n",
    "    with ThreadPoolExecutor(max_workers=20) as executor:\n",
    "        article_pages = [f\"https://news.daum.net/breakingnews/{category}?page={i}\" for i in range(1, 401)]\n",
    "        article_lists = list(executor.map(news_article, article_pages))\n",
    "        for index, articles in enumerate(article_lists):\n",
    "            for item in articles:\n",
    "                article_title = item.select(\"strong.tit_thumb a\")[0].text\n",
    "                article_press = item.select(\"span.info_news\")[0].text\n",
    "                article_txt = item.select(\"span.link_txt\")[0].text.replace('\\n', '').replace('...', '').replace('앵커', '').lstrip()\n",
    "                article_link = item.find(\"a\")['href']\n",
    "\n",
    "                article = {}\n",
    "                article['type'] = category\n",
    "                article['title'] = article_title\n",
    "                article['txt'] = article_txt\n",
    "                article['press'] = article_press\n",
    "                article['link'] = article_link\n",
    "\n",
    "                target_articles[category].append(article)\n",
    "\n",
    "dfs = []\n",
    "for category, articles in target_articles.items():\n",
    "    df = pd.DataFrame(data=articles)\n",
    "    dfs.append(df)\n",
    "\n",
    "news = pd.concat(dfs).reset_index(drop=True)\n",
    "news[['press', 'time']] = news['press'].str.split('·', n=1, expand=True)\n",
    "today = datetime.today()\n",
    "news['time'] = news['time'].apply(lambda x: datetime.strptime(f\"{today.date()} {x}:00\", '%Y-%m-%d %H:%M:%S'))\n",
    "news = news[['type','title','txt','press','time','link']]"
   ]
  },
  {
   "cell_type": "code",
   "execution_count": 3,
   "metadata": {},
   "outputs": [
    {
     "data": {
      "text/plain": [
       "'20시간 55분'"
      ]
     },
     "execution_count": 3,
     "metadata": {},
     "output_type": "execute_result"
    }
   ],
   "source": [
    "# 지난 시간 계산\n",
    "now = datetime.now()\n",
    "start = datetime(now.year, now.month, now.day)\n",
    "diff = now - start\n",
    "diff\n",
    "total_seconds = diff.total_seconds()\n",
    "hours = int(total_seconds // 3600)\n",
    "minutes = int((total_seconds % 3600) // 60)\n",
    "result_str = f\"{hours}시간 {minutes}분\"\n",
    "result_str"
   ]
  },
  {
   "cell_type": "code",
   "execution_count": 4,
   "metadata": {},
   "outputs": [
    {
     "data": {
      "image/png": "[encoded data removed]",
      "text/plain": [
       "<Figure size 640x480 with 1 Axes>"
      ]
     },
     "metadata": {},
     "output_type": "display_data"
    }
   ],
   "source": [
    "# 지난 시간 계산\n",
    "now = datetime.now()\n",
    "start = datetime(now.year, now.month, now.day)\n",
    "diff = now - start\n",
    "diff\n",
    "total_seconds = diff.total_seconds()\n",
    "hours = int(total_seconds // 3600)\n",
    "minutes = int((total_seconds % 3600) // 60)\n",
    "result_str = f\"{hours}시간 {minutes}분\"\n",
    "result_str\n",
    "# 공지 문구 제작\n",
    "result_str = f\"{hours}시간 {minutes}분\"\n",
    "title_cnt = news['title'].count()\n",
    "press_cnt = pd.DataFrame(news['press'].unique())[0].count()\n",
    "politics_count = news[news['type'] == 'politics']['title'].count()\n",
    "economic_count = news[news['type'] == 'economic']['title'].count()\n",
    "society_count = news[news['type'] == 'society']['title'].count()\n",
    "digital_count = news[news['type'] == 'digital']['title'].count()\n",
    "notice = f\"기사 수집은 하루가 지나면 초기화 됩니다.\\n오늘, 현재까지 {result_str} 동안 수집된 기사는 총 {title_cnt}개, {press_cnt}개의 언론사가 보도하였습니다.\\n각 분야 별로는 정치 {politics_count}개, 경제 {economic_count}개, 사회 {society_count}개, IT/과학 {digital_count}개 기사가 수집되었습니다.\"\n",
    "\n",
    "politics_count = news[news['type'] == 'politics']['title'].count()\n",
    "economic_count = news[news['type'] == 'economic']['title'].count()\n",
    "society_count = news[news['type'] == 'society']['title'].count()\n",
    "digital_count = news[news['type'] == 'digital']['title'].count()\n",
    "\n",
    "type_dict = {'Politics': politics_count,\n",
    "             'Economics': economic_count,\n",
    "             'Society': society_count,\n",
    "             'IT/Science': digital_count}\n",
    "type_df = pd.DataFrame.from_dict(data=type_dict, orient='index', columns=['count'])\n",
    "\n",
    "sns.set_style(\"whitegrid\")\n",
    "sns.barplot(x=type_df['count'], y=type_df.index, palette=[\"#b2df8a\", \"#a6cee3\", \"#fb9a99\", \"#fdbf6f\"] )\n",
    "sns.despine(left=True, bottom=True)\n",
    "plt.savefig('static/images/section_cnt.jpg')"
   ]
  },
  {
   "cell_type": "code",
   "execution_count": 6,
   "metadata": {},
   "outputs": [
    {
     "data": {
      "text/plain": [
       "'기사 수집은 하루가 지나면 초기화 됩니다.\\n오늘, 현재까지 16시간 38분 동안 수집된 기사는 총 14738개, 94개의 언론사가 보도하였습니다.\\n각 분야 별로는 정치 3124개, 경제 5056개, 사회 5678개, IT/과학 880개 기사가 수집되었습니다.'"
      ]
     },
     "execution_count": 6,
     "metadata": {},
     "output_type": "execute_result"
    }
   ],
   "source": [
    "notice"
   ]
  },
  {
   "cell_type": "code",
   "execution_count": 7,
   "metadata": {},
   "outputs": [
    {
     "data": {
      "image/png": "[encoded data removed]",
      "text/plain": [
       "<Figure size 640x480 with 1 Axes>"
      ]
     },
     "metadata": {},
     "output_type": "display_data"
    }
   ],
   "source": [
    "import pandas as pd\n",
    "import seaborn as sns\n",
    "\n",
    "politics_count = news[news['type'] == 'politics']['title'].count()\n",
    "economic_count = news[news['type'] == 'economic']['title'].count()\n",
    "society_count = news[news['type'] == 'society']['title'].count()\n",
    "digital_count = news[news['type'] == 'digital']['title'].count()\n",
    "\n",
    "type_dict = {'Politics': politics_count,\n",
    "             'Economics': economic_count,\n",
    "             'Society': society_count,\n",
    "             'IT/Science': digital_count}\n",
    "type_df = pd.DataFrame.from_dict(data=type_dict, orient='index', columns=['count'])\n",
    "\n",
    "sns.set_style(\"whitegrid\")\n",
    "sns.barplot(x=type_df['count'], y=type_df.index, palette=[\"#b2df8a\", \"#a6cee3\", \"#fb9a99\", \"#fdbf6f\"] )\n",
    "sns.despine(left=True, bottom=True)\n",
    "plt.savefig('static/images/section_cnt.jpg')"
   ]
  },
  {
   "cell_type": "code",
   "execution_count": null,
   "metadata": {},
   "outputs": [],
   "source": [
    "news.to_excel('/Users/song-kwangmin/Desktop/text_data_news.xlsx', engine='xlsxwriter')"
   ]
  },
  {
   "cell_type": "code",
   "execution_count": 3,
   "metadata": {},
   "outputs": [
    {
     "data": {
      "text/html": [
       "<div>\n",
       "<style scoped>\n",
       "    .dataframe tbody tr th:only-of-type {\n",
       "        vertical-align: middle;\n",
       "    }\n",
       "\n",
       "    .dataframe tbody tr th {\n",
       "        vertical-align: top;\n",
       "    }\n",
       "\n",
       "    .dataframe thead th {\n",
       "        text-align: right;\n",
       "    }\n",
       "</style>\n",
       "<table border=\"1\" class=\"dataframe\">\n",
       "  <thead>\n",
       "    <tr style=\"text-align: right;\">\n",
       "      <th></th>\n",
       "      <th>type</th>\n",
       "      <th>title</th>\n",
       "      <th>txt</th>\n",
       "      <th>press</th>\n",
       "      <th>time</th>\n",
       "      <th>link</th>\n",
       "    </tr>\n",
       "  </thead>\n",
       "  <tbody>\n",
       "    <tr>\n",
       "      <th>0</th>\n",
       "      <td>politics</td>\n",
       "      <td>‘노란봉투법’ 논의 법사위, 국민의힘 표결 거부로 파행···본회의 직회부 수순</td>\n",
       "      <td>국회 법제사법위원회가 26일 노란봉투법(노조법 2·3조 개정안) 표결 여부를 두고 ...</td>\n",
       "      <td>경향신문</td>\n",
       "      <td>2023-04-26 19:34:00</td>\n",
       "      <td>https://v.daum.net/v/20230426193454906</td>\n",
       "    </tr>\n",
       "    <tr>\n",
       "      <th>1</th>\n",
       "      <td>politics</td>\n",
       "      <td>[정치톡톡] 9일 전만 해도 / 나도 고발하라 / 바닥 브리핑</td>\n",
       "      <td>【 멘트 】 정치톡톡, 이혁근 기자와 함께합니다. 어서 오세요. 【 질문1 】 첫 ...</td>\n",
       "      <td>MBN</td>\n",
       "      <td>2023-04-26 19:34:00</td>\n",
       "      <td>https://v.daum.net/v/20230426193449905</td>\n",
       "    </tr>\n",
       "    <tr>\n",
       "      <th>2</th>\n",
       "      <td>politics</td>\n",
       "      <td>[오마이포토] 건배하는 김기현-이재명</td>\n",
       "      <td>[남소연 기자] ▲ [오마이포토] 건배하는 김기현-이재명 ⓒ 공동취재사진김기현 국민...</td>\n",
       "      <td>오마이뉴스</td>\n",
       "      <td>2023-04-26 19:33:00</td>\n",
       "      <td>https://v.daum.net/v/20230426193301880</td>\n",
       "    </tr>\n",
       "    <tr>\n",
       "      <th>3</th>\n",
       "      <td>politics</td>\n",
       "      <td>[단독]수단 탈출 작전 마지막 13시간 책임진 조종사…“대한민국 위상 실감”</td>\n",
       "      <td>\"지금부터는 대한민국 공군이 국민 여러분들을 안전하게 대한민국으로 모실 수 있도록 ...</td>\n",
       "      <td>채널A</td>\n",
       "      <td>2023-04-26 19:32:00</td>\n",
       "      <td>https://v.daum.net/v/20230426193251875</td>\n",
       "    </tr>\n",
       "    <tr>\n",
       "      <th>4</th>\n",
       "      <td>politics</td>\n",
       "      <td>한미 정상, 한국전 참전비 찾아 ‘동맹 70년’ 되새긴 헌화</td>\n",
       "      <td>[] 윤석열 대통령과 조 바이든 미 대통령은 한미 정상회담에 앞서 전야제 성격으로 ...</td>\n",
       "      <td>채널A</td>\n",
       "      <td>2023-04-26 19:32:00</td>\n",
       "      <td>https://v.daum.net/v/20230426193249873</td>\n",
       "    </tr>\n",
       "    <tr>\n",
       "      <th>...</th>\n",
       "      <td>...</td>\n",
       "      <td>...</td>\n",
       "      <td>...</td>\n",
       "      <td>...</td>\n",
       "      <td>...</td>\n",
       "      <td>...</td>\n",
       "    </tr>\n",
       "    <tr>\n",
       "      <th>16867</th>\n",
       "      <td>digital</td>\n",
       "      <td>일본 기업 ‘민간 달 착륙선’, 통신 끊겼다…월면 착지 실패한 듯</td>\n",
       "      <td>일본 기업이 만든 민간 달 착륙선이 월면에 안착하는 데 실패한 것으로 보인다. 착륙...</td>\n",
       "      <td>경향신문</td>\n",
       "      <td>2023-04-26 03:07:00</td>\n",
       "      <td>https://v.daum.net/v/20230426030743249</td>\n",
       "    </tr>\n",
       "    <tr>\n",
       "      <th>16868</th>\n",
       "      <td>digital</td>\n",
       "      <td>미국도 중국도 한국도 “사람이 없다” 난리 난 업계</td>\n",
       "      <td>“돈이 있어도 사람이 없으면 성공할 수가 없다.” 최근 미국 워싱턴 DC에서 퍼듀 ...</td>\n",
       "      <td>조선일보</td>\n",
       "      <td>2023-04-26 03:05:00</td>\n",
       "      <td>https://v.daum.net/v/20230426030516201</td>\n",
       "    </tr>\n",
       "    <tr>\n",
       "      <th>16869</th>\n",
       "      <td>digital</td>\n",
       "      <td>비영리기관으로 출발해놓고… 오픈AI “GPT란 말 아무나 쓰지마라”</td>\n",
       "      <td>앞으로 ‘세금GPT’ ‘법률GPT’처럼 GPT를 붙인 서비스명을 사용하기 어려워질 ...</td>\n",
       "      <td>조선일보</td>\n",
       "      <td>2023-04-26 03:04:00</td>\n",
       "      <td>https://v.daum.net/v/20230426030451177</td>\n",
       "    </tr>\n",
       "    <tr>\n",
       "      <th>16870</th>\n",
       "      <td>digital</td>\n",
       "      <td>일 민간 달 착륙선 실패?…착륙 앞두고 신호 끊어져</td>\n",
       "      <td>(지디넷코리아=한세희  과학전문기자)일본 우주 기업 아이스페이스의 달 착륙선 '하쿠...</td>\n",
       "      <td>지디넷코리아</td>\n",
       "      <td>2023-04-26 02:13:00</td>\n",
       "      <td>https://v.daum.net/v/20230426021315842</td>\n",
       "    </tr>\n",
       "    <tr>\n",
       "      <th>16871</th>\n",
       "      <td>digital</td>\n",
       "      <td>[사진] 삼성전자, 런던·뉴욕에 게이밍 체험존</td>\n",
       "      <td>삼성전자가 마이크로소프트(Microsoft)와 함께 런던·뉴욕 등 대도시 중심가에 ...</td>\n",
       "      <td>중앙일보</td>\n",
       "      <td>2023-04-26 00:02:00</td>\n",
       "      <td>https://v.daum.net/v/20230426000238128</td>\n",
       "    </tr>\n",
       "  </tbody>\n",
       "</table>\n",
       "<p>16872 rows × 6 columns</p>\n",
       "</div>"
      ],
      "text/plain": [
       "           type                                        title  \\\n",
       "0      politics  ‘노란봉투법’ 논의 법사위, 국민의힘 표결 거부로 파행···본회의 직회부 수순   \n",
       "1      politics           [정치톡톡] 9일 전만 해도 / 나도 고발하라 / 바닥 브리핑   \n",
       "2      politics                         [오마이포토] 건배하는 김기현-이재명   \n",
       "3      politics   [단독]수단 탈출 작전 마지막 13시간 책임진 조종사…“대한민국 위상 실감”   \n",
       "4      politics            한미 정상, 한국전 참전비 찾아 ‘동맹 70년’ 되새긴 헌화   \n",
       "...         ...                                          ...   \n",
       "16867   digital         일본 기업 ‘민간 달 착륙선’, 통신 끊겼다…월면 착지 실패한 듯   \n",
       "16868   digital                 미국도 중국도 한국도 “사람이 없다” 난리 난 업계   \n",
       "16869   digital        비영리기관으로 출발해놓고… 오픈AI “GPT란 말 아무나 쓰지마라”   \n",
       "16870   digital                 일 민간 달 착륙선 실패?…착륙 앞두고 신호 끊어져   \n",
       "16871   digital                    [사진] 삼성전자, 런던·뉴욕에 게이밍 체험존   \n",
       "\n",
       "                                                     txt    press  \\\n",
       "0      국회 법제사법위원회가 26일 노란봉투법(노조법 2·3조 개정안) 표결 여부를 두고 ...    경향신문    \n",
       "1      【 멘트 】 정치톡톡, 이혁근 기자와 함께합니다. 어서 오세요. 【 질문1 】 첫 ...     MBN    \n",
       "2      [남소연 기자] ▲ [오마이포토] 건배하는 김기현-이재명 ⓒ 공동취재사진김기현 국민...   오마이뉴스    \n",
       "3      \"지금부터는 대한민국 공군이 국민 여러분들을 안전하게 대한민국으로 모실 수 있도록 ...     채널A    \n",
       "4      [] 윤석열 대통령과 조 바이든 미 대통령은 한미 정상회담에 앞서 전야제 성격으로 ...     채널A    \n",
       "...                                                  ...      ...   \n",
       "16867  일본 기업이 만든 민간 달 착륙선이 월면에 안착하는 데 실패한 것으로 보인다. 착륙...    경향신문    \n",
       "16868  “돈이 있어도 사람이 없으면 성공할 수가 없다.” 최근 미국 워싱턴 DC에서 퍼듀 ...    조선일보    \n",
       "16869  앞으로 ‘세금GPT’ ‘법률GPT’처럼 GPT를 붙인 서비스명을 사용하기 어려워질 ...    조선일보    \n",
       "16870  (지디넷코리아=한세희  과학전문기자)일본 우주 기업 아이스페이스의 달 착륙선 '하쿠...  지디넷코리아    \n",
       "16871  삼성전자가 마이크로소프트(Microsoft)와 함께 런던·뉴욕 등 대도시 중심가에 ...    중앙일보    \n",
       "\n",
       "                     time                                    link  \n",
       "0     2023-04-26 19:34:00  https://v.daum.net/v/20230426193454906  \n",
       "1     2023-04-26 19:34:00  https://v.daum.net/v/20230426193449905  \n",
       "2     2023-04-26 19:33:00  https://v.daum.net/v/20230426193301880  \n",
       "3     2023-04-26 19:32:00  https://v.daum.net/v/20230426193251875  \n",
       "4     2023-04-26 19:32:00  https://v.daum.net/v/20230426193249873  \n",
       "...                   ...                                     ...  \n",
       "16867 2023-04-26 03:07:00  https://v.daum.net/v/20230426030743249  \n",
       "16868 2023-04-26 03:05:00  https://v.daum.net/v/20230426030516201  \n",
       "16869 2023-04-26 03:04:00  https://v.daum.net/v/20230426030451177  \n",
       "16870 2023-04-26 02:13:00  https://v.daum.net/v/20230426021315842  \n",
       "16871 2023-04-26 00:02:00  https://v.daum.net/v/20230426000238128  \n",
       "\n",
       "[16872 rows x 6 columns]"
      ]
     },
     "execution_count": 3,
     "metadata": {},
     "output_type": "execute_result"
    }
   ],
   "source": [
    "news"
   ]
  },
  {
   "cell_type": "code",
   "execution_count": 6,
   "metadata": {},
   "outputs": [],
   "source": [
    "pol = news[news['type']=='politics'][:500]\n",
    "eco = news[news['type']=='economic'][:500]\n",
    "soc = news[news['type']=='society'][:500]\n",
    "dig = news[news['type']=='digital'][:500]"
   ]
  },
  {
   "cell_type": "code",
   "execution_count": 9,
   "metadata": {},
   "outputs": [],
   "source": [
    "news = pd.concat([pol,eco,soc,dig]).reset_index(drop=True)"
   ]
  },
  {
   "cell_type": "code",
   "execution_count": 6,
   "metadata": {},
   "outputs": [],
   "source": [
    "# analysis 3 - express keywords count on the wordcloud, all fields and each section of news\n",
    "pol = news[news['type']=='politics'][:150]\n",
    "eco = news[news['type']=='economic'][:150]\n",
    "soc = news[news['type']=='society'][:150]\n",
    "dig = news[news['type']=='digital'][:150]\n",
    "\n",
    "news = pd.concat([pol,eco,soc,dig]).reset_index(drop=True)\n",
    "\n",
    "news_types = ['all', 'politics', 'economic', 'society', 'digital']\n",
    "colormaps = ['Set3','Blues', 'Greens', 'Oranges', 'Purples']\n",
    "\n",
    "for i, news_type in enumerate(news_types):\n",
    "    # Load data\n",
    "    if news_type == 'all':\n",
    "        title_origin = news['txt'] + news['title']\n",
    "    else:\n",
    "        title_origin =  news[news['type']==news_type]['title'] + news[news['type']==news_type]['txt']\n",
    "\n",
    "    titles = list(title_origin)\n",
    "    ana_text = \" \".join(titles)\n",
    "\n",
    "    # Nouns extraction\n",
    "    kkma = Kkma()\n",
    "    noun_list = kkma.nouns(ana_text)\n",
    "    noun_list = [word for word in noun_list if len(word) > 2]\n",
    "    counts = Counter(noun_list)\n",
    "    target_words = counts.most_common(20)\n",
    "\n",
    "    # WordCloud generation\n",
    "    wc_kwargs = {\"font_path\":\"Library/Fonts/NanumGothic.ttf\", \"max_font_size\":60,'background_color':'black'}\n",
    "    wc_kwargs['colormap'] = colormaps[i]\n",
    "\n",
    "    wc = WordCloud(**wc_kwargs)\n",
    "    cloud = wc.generate_from_frequencies(dict(target_words))\n",
    "\n",
    "    # Save image\n",
    "    filename = f\"wc_{news_type}.jpg\"\n",
    "    filepath = 'static/images/'+filename\n",
    "    cloud.to_file(filepath) "
   ]
  },
  {
   "cell_type": "code",
   "execution_count": 5,
   "metadata": {},
   "outputs": [
    {
     "data": {
      "text/plain": [
       "[('후지쯔', 2),\n",
       " ('에이스톰', 2),\n",
       " ('위메이드', 2),\n",
       " ('넷플릭스', 2),\n",
       " ('로스앤젤레스', 2),\n",
       " ('코로나', 2),\n",
       " ('게임즈', 2),\n",
       " ('소디엑', 2),\n",
       " ('전북은행', 2),\n",
       " ('어르신', 1),\n",
       " ('시니어', 1),\n",
       " ('중간요금', 1),\n",
       " ('대표이사', 1),\n",
       " ('경영진', 1),\n",
       " ('마지막', 1),\n",
       " ('5세대', 1),\n",
       " ('이동통신', 1),\n",
       " ('65세', 1),\n",
       " ('50여', 1),\n",
       " ('수수께끼', 1)]"
      ]
     },
     "execution_count": 5,
     "metadata": {},
     "output_type": "execute_result"
    }
   ],
   "source": [
    "target_words"
   ]
  },
  {
   "cell_type": "code",
   "execution_count": 6,
   "metadata": {},
   "outputs": [
    {
     "data": {
      "text/plain": [
       "94"
      ]
     },
     "execution_count": 6,
     "metadata": {},
     "output_type": "execute_result"
    }
   ],
   "source": [
    "pd.DataFrame(news['press'].unique())[0].count()"
   ]
  }
 ],
 "metadata": {
  "kernelspec": {
   "display_name": "Python 3",
   "language": "python",
   "name": "python3"
  },
  "language_info": {
   "codemirror_mode": {
    "name": "ipython",
    "version": 3
   },
   "file_extension": ".py",
   "mimetype": "text/x-python",
   "name": "python",
   "nbconvert_exporter": "python",
   "pygments_lexer": "ipython3",
   "version": "3.10.9"
  },
  "orig_nbformat": 4
 },
 "nbformat": 4,
 "nbformat_minor": 2
}
