{
 "cells": [
  {
   "cell_type": "code",
   "execution_count": 119,
   "metadata": {},
   "outputs": [],
   "source": [
    "from flask import Flask, render_template, request\n",
    "from flask_paginate import Pagination, get_page_parameter\n",
    "import requests as req\n",
    "from bs4 import BeautifulSoup\n",
    "import pandas as pd\n",
    "from datetime import datetime\n",
    "import xlsxwriter\n",
    "from wordcloud import WordCloud\n",
    "from konlpy.tag import Kkma\n",
    "from collections import Counter\n",
    "import matplotlib.pyplot as plt\n",
    "import os\n",
    "import seaborn as sns\n",
    "import dataframe_image as dfi\n",
    "import threading\n",
    "import matplotlib"
   ]
  },
  {
   "cell_type": "code",
   "execution_count": 120,
   "metadata": {},
   "outputs": [],
   "source": [
    "# 크롤링\n",
    "from concurrent.futures import ThreadPoolExecutor\n",
    "import requests as req\n",
    "from bs4 import BeautifulSoup\n",
    "import pandas as pd\n",
    "from datetime import datetime\n",
    "\n",
    "def news_article(page_url):\n",
    "    response = req.get(page_url, headers={\n",
    "        'User-Agent': 'Mozilla/5.0 (Macintosh; Intel Mac OS X 10_15_7) AppleWebKit/605.1.15 (KHTML, like Gecko) Version/16.3 Safari/605.1.15'\n",
    "    })\n",
    "    soup = BeautifulSoup(response.text, 'html.parser')\n",
    "    articles = soup.select(\"div.box_etc div.cont_thumb\")\n",
    "    return articles\n",
    "\n",
    "categories = ['politics', 'economic', 'society', 'digital']\n",
    "target_articles = {category: [] for category in categories}\n",
    "\n",
    "for category in categories:\n",
    "    with ThreadPoolExecutor(max_workers=20) as executor:\n",
    "        article_pages = [f\"https://news.daum.net/breakingnews/{category}?page={i}\" for i in range(1, 401)]\n",
    "        article_lists = list(executor.map(news_article, article_pages))\n",
    "        for index, articles in enumerate(article_lists):\n",
    "            for item in articles:\n",
    "                article_title = item.select(\"strong.tit_thumb a\")[0].text\n",
    "                article_press = item.select(\"span.info_news\")[0].text\n",
    "                article_txt = item.select(\"span.link_txt\")[0].text.replace('\\n', '').replace('...', '').replace('앵커', '').lstrip()\n",
    "                article_link = item.find(\"a\")['href']\n",
    "\n",
    "                article = {}\n",
    "                article['type'] = category\n",
    "                article['title'] = article_title\n",
    "                article['txt'] = article_txt\n",
    "                article['press'] = article_press\n",
    "                article['link'] = article_link\n",
    "\n",
    "                target_articles[category].append(article)\n",
    "\n",
    "dfs = []\n",
    "for category, articles in target_articles.items():\n",
    "    df = pd.DataFrame(data=articles)\n",
    "    dfs.append(df)\n",
    "\n",
    "news = pd.concat(dfs).reset_index(drop=True)\n",
    "news[['press', 'time']] = news['press'].str.split('·', n=1, expand=True)\n",
    "today = datetime.today()\n",
    "news['time'] = news['time'].apply(lambda x: datetime.strptime(f\"{today.date()} {x}:00\", '%Y-%m-%d %H:%M:%S'))\n",
    "news = news[['type','title','txt','press','time','link']]"
   ]
  },
  {
   "cell_type": "code",
   "execution_count": 121,
   "metadata": {},
   "outputs": [
    {
     "data": {
      "text/plain": [
       "'2시간 39분'"
      ]
     },
     "execution_count": 121,
     "metadata": {},
     "output_type": "execute_result"
    }
   ],
   "source": [
    "# 지난 시간 계산\n",
    "now = datetime.now()\n",
    "start = datetime(now.year, now.month, now.day)\n",
    "diff = now - start\n",
    "diff\n",
    "total_seconds = diff.total_seconds()\n",
    "hours = int(total_seconds // 3600)\n",
    "minutes = int((total_seconds % 3600) // 60)\n",
    "result_str = f\"{hours}시간 {minutes}분\"\n",
    "result_str"
   ]
  },
  {
   "cell_type": "code",
   "execution_count": 122,
   "metadata": {},
   "outputs": [
    {
     "name": "stdout",
     "output_type": "stream",
     "text": [
      "기사 수집은 하루가 지나면 초기화 됩니다.\n",
      "오늘, 현재까지 2시간 39분 동안 수집된 기사는 총 347개, 41개의 언론사가 보도하였습니다.\n",
      "각 분야 별로는 정치 166개, 경제 86개, 사회 93개, IT/과학 2개 기사가 수집되었습니다.\n"
     ]
    }
   ],
   "source": [
    "# 지난 시간 계산\n",
    "now = datetime.now()\n",
    "start = datetime(now.year, now.month, now.day)\n",
    "diff = now - start\n",
    "diff\n",
    "total_seconds = diff.total_seconds()\n",
    "hours = int(total_seconds // 3600)\n",
    "minutes = int((total_seconds % 3600) // 60)\n",
    "result_str = f\"{hours}시간 {minutes}분\"\n",
    "result_str\n",
    "# 공지 문구 제작\n",
    "result_str = f\"{hours}시간 {minutes}분\"\n",
    "title_cnt = news['title'].count()\n",
    "press_cnt = pd.DataFrame(news['press'].unique())[0].count()\n",
    "politics_count = news[news['type'] == 'politics']['title'].count()\n",
    "economic_count = news[news['type'] == 'economic']['title'].count()\n",
    "society_count = news[news['type'] == 'society']['title'].count()\n",
    "digital_count = news[news['type'] == 'digital']['title'].count()\n",
    "notice = f\"기사 수집은 하루가 지나면 초기화 됩니다.\\n오늘, 현재까지 {result_str} 동안 수집된 기사는 총 {title_cnt}개, {press_cnt}개의 언론사가 보도하였습니다.\\n각 분야 별로는 정치 {politics_count}개, 경제 {economic_count}개, 사회 {society_count}개, IT/과학 {digital_count}개 기사가 수집되었습니다.\""
   ]
  },
  {
   "cell_type": "code",
   "execution_count": 123,
   "metadata": {},
   "outputs": [
    {
     "data": {
      "image/png": "[encoded data removed]",
      "text/plain": [
       "<Figure size 640x480 with 1 Axes>"
      ]
     },
     "metadata": {},
     "output_type": "display_data"
    }
   ],
   "source": [
    "import pandas as pd\n",
    "import seaborn as sns\n",
    "\n",
    "politics_count = news[news['type'] == 'politics']['title'].count()\n",
    "economic_count = news[news['type'] == 'economic']['title'].count()\n",
    "society_count = news[news['type'] == 'society']['title'].count()\n",
    "digital_count = news[news['type'] == 'digital']['title'].count()\n",
    "\n",
    "type_dict = {'Politics': politics_count,\n",
    "             'Economics': economic_count,\n",
    "             'Society': society_count,\n",
    "             'IT/Science': digital_count}\n",
    "type_df = pd.DataFrame.from_dict(data=type_dict, orient='index', columns=['count'])\n",
    "\n",
    "sns.set_style(\"whitegrid\")\n",
    "sns.barplot(x=type_df['count'], y=type_df.index, palette=[\"#b2df8a\", \"#a6cee3\", \"#fb9a99\", \"#fdbf6f\"] )\n",
    "sns.despine(left=True, bottom=True)\n",
    "plt.savefig('static/images/section_cnt.jpg')"
   ]
  },
  {
   "cell_type": "code",
   "execution_count": 125,
   "metadata": {},
   "outputs": [],
   "source": [
    "# analysis 3 - express keywords count on the wordcloud, all fields and each section of news\n",
    "news_types = ['all', 'politics', 'economic', 'society', 'digital']\n",
    "colormaps = ['Set3','Blues', 'Greens', 'Oranges', 'Purples']\n",
    "\n",
    "for i, news_type in enumerate(news_types):\n",
    "    # Load data\n",
    "    if news_type == 'all':\n",
    "        title_origin = news['txt'] + news['title']\n",
    "    else:\n",
    "        title_origin =  news[news['type']==news_type]['title'] + news[news['type']==news_type]['txt']\n",
    "\n",
    "    titles = list(title_origin)\n",
    "    ana_text = \" \".join(titles)\n",
    "\n",
    "    # Nouns extraction\n",
    "    kkma = Kkma()\n",
    "    noun_list = kkma.nouns(ana_text)\n",
    "    noun_list = [word for word in noun_list if len(word) > 2]\n",
    "    counts = Counter(noun_list)\n",
    "    target_words = counts.most_common(20)"
   ]
  },
  {
   "cell_type": "code",
   "execution_count": null,
   "metadata": {},
   "outputs": [],
   "source": [
    "from collections import Counter\n",
    "from konlpy.tag import Kkma\n",
    "\n",
    "def extract_nouns(text):\n",
    "    kkma = Kkma()\n",
    "    noun_list = kkma.nouns(text)\n",
    "    noun_list = [word for word in noun_list if len(word) > 2]\n",
    "    counts = Counter(noun_list)\n",
    "    return counts.most_common(20)\n",
    "\n",
    "from multiprocessing import Pool\n",
    "# ...\n",
    "\n",
    "for i, news_type in enumerate(news_types):\n",
    "    # Load data\n",
    "    if news_type == 'all':\n",
    "        title_origin = news['txt'] + news['title']\n",
    "    else:\n",
    "        title_origin =  news[news['type']==news_type]['title'] + news[news['type']==news_type]['txt']\n",
    "\n",
    "    titles = list(title_origin)\n",
    "    ana_text = \" \".join(titles)\n",
    "\n",
    "    with Pool(processes=4) as pool:\n",
    "        results = pool.map(extract_nouns, [ana_text])\n",
    "\n",
    "    target_words = results[0]"
   ]
  }
 ],
 "metadata": {
  "kernelspec": {
   "display_name": "Python 3",
   "language": "python",
   "name": "python3"
  },
  "language_info": {
   "codemirror_mode": {
    "name": "ipython",
    "version": 3
   },
   "file_extension": ".py",
   "mimetype": "text/x-python",
   "name": "python",
   "nbconvert_exporter": "python",
   "pygments_lexer": "ipython3",
   "version": "3.10.9"
  },
  "orig_nbformat": 4
 },
 "nbformat": 4,
 "nbformat_minor": 2
}
